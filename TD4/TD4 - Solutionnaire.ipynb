{
 "cells": [
  {
   "cell_type": "markdown",
   "metadata": {},
   "source": [
    "# MTH3302 : Méthodes probabilistes et statistiques pour l'I.A.\n",
    "\n",
    "Jonathan Jalbert<br/>\n",
    "Professeur adjoint au Département de mathématiques et de génie industriel<br/>\n",
    "Polytechnique Montréal<br/>\n",
    "\n",
    "\n",
    "# TD4 - Régression linéaire\n",
    "\n",
    "Ce TD concerne la régression linéaire (Chapitre 2 du cours). À la fin de ce TD, vous devriez être avoir été en mesure de :\n",
    "- Choisir un modèle sur la base de l'estimation ou de la prédiction.\n",
    "- Vérifier pour la présence de multicolinéarité.\n",
    "- Transformer les variables pour modéliser des relations non-linéaires.\n",
    "\n",
    "\n",
    "## Contexte : Poids des poissons\n",
    "\n",
    "Le fichier *fishweights.csv* contient les caractéristiques de 158 poissons péchés dans le lac Laengelmavesi en Finlande. Nous étudierons le poids (Weight en grammes) des poissons en fonction de variables explicatives suivantes :\n",
    "- l'espèce de poisson (species) ;\n",
    "- la longueur standard (StandardLength) ;\n",
    "- la longeur non standard  (NonStandardLength) ;\n",
    "- la longueur totale (TotalLength) ;\n",
    "- la hauteur (Height) ;\n",
    "- la largeur (Width).\n",
    "\n",
    "\n",
    "          ___/////___                  _\n",
    "         /           \\    ___          |\n",
    "       /\\             \\_ /  /          H\n",
    "     <   )            __)  \\           |\n",
    "       \\/_\\\\_________/   \\__\\          _\n",
    "\n",
    "     |------- SL -------|\n",
    "     |------- NSL ---------|\n",
    "     |------- TL ------------|"
   ]
  },
  {
   "cell_type": "code",
   "execution_count": null,
   "metadata": {},
   "outputs": [],
   "source": [
    "using CSV \n",
    "using DataFrames\n",
    "using Distributions\n",
    "using Gadfly\n",
    "using LinearAlgebra\n",
    "using Statistics"
   ]
  },
  {
   "cell_type": "markdown",
   "metadata": {},
   "source": [
    "## Chargement des données"
   ]
  },
  {
   "cell_type": "code",
   "execution_count": null,
   "metadata": {},
   "outputs": [],
   "source": [
    "data = CSV.read(\"fishweights.csv\", DataFrame)\n",
    "first(data,10)"
   ]
  },
  {
   "cell_type": "markdown",
   "metadata": {},
   "source": [
    "# Exercice 1 - Analyse exploratoire\n",
    "\n",
    "## a) Illustrez les poids en fonction des espèces de poisson\n",
    "\n",
    "**Note :** Avec Gadfly, la variable *x* peut être une variable catégorielle."
   ]
  },
  {
   "cell_type": "code",
   "execution_count": null,
   "metadata": {},
   "outputs": [],
   "source": [
    "Gadfly.set_default_plot_size(16cm, 9cm)\n",
    "plot(data, x=:Species, y=:Weight, Geom.point)"
   ]
  },
  {
   "cell_type": "markdown",
   "metadata": {},
   "source": [
    "## b) Illustrez les poids en fonction de la longeur standard et des espèces.\n",
    "\n",
    "**Suggestion :** Utilisez l'option *color* de Gadfly pour distinguer les différentes espèces."
   ]
  },
  {
   "cell_type": "code",
   "execution_count": null,
   "metadata": {},
   "outputs": [],
   "source": [
    "Gadfly.set_default_plot_size(16cm, 9cm)\n",
    "plot(data, x=:StandardLength, y=:Weight, Geom.point, color=:Species)"
   ]
  },
  {
   "cell_type": "markdown",
   "metadata": {},
   "source": [
    "## c) Calculez le poids moyen pour chaque espèce ainsi que le nombre d'observations pour chaque espèce.\n",
    "\n",
    "Les fonctions `combine()` et `groupby()` permettent d'effectuer rapidement ces tâches. Puisqu'elles ne sont pas intuitives, je vous donne d'emblée la réponse. C'est une combinaison de commandes qui pourra vous être utile dans tout le cours."
   ]
  },
  {
   "cell_type": "code",
   "execution_count": null,
   "metadata": {},
   "outputs": [],
   "source": [
    "df = combine(Weight = :Weight => mean, n=:Weight => length, groupby(data, :Species))"
   ]
  },
  {
   "cell_type": "code",
   "execution_count": null,
   "metadata": {},
   "outputs": [],
   "source": [
    "sort!(df, :Weight)"
   ]
  },
  {
   "cell_type": "markdown",
   "metadata": {},
   "source": [
    "# Exercice 2 - Ajustement *vs* prédiction"
   ]
  },
  {
   "cell_type": "code",
   "execution_count": null,
   "metadata": {},
   "outputs": [],
   "source": [
    "\"\"\"\n",
    "    construct_structure(x::Vector{<:Real}, order::Int)\n",
    "\n",
    "Construction de la matrice de structure du modèle polynomial d'ordre `order` à partir du vecteur `x`.\n",
    "\"\"\"\n",
    "function construct_structure(x::Vector{<:Real}, order::Int)\n",
    "    \n",
    "    X = Array{Float64}(undef, length(x), order+1)\n",
    "    \n",
    "    for p in 0:order\n",
    "       X[:,p+1] = x.^p \n",
    "    end\n",
    "    \n",
    "    return X\n",
    "    \n",
    "end"
   ]
  },
  {
   "cell_type": "markdown",
   "metadata": {},
   "source": [
    "## a) Construction de l'ensemble d'entraînement et de validation pour les éperlans"
   ]
  },
  {
   "cell_type": "code",
   "execution_count": null,
   "metadata": {},
   "outputs": [],
   "source": [
    "eperlan = filter(row -> row.Species == \"Éperlan\", data)\n",
    "train = eperlan[1:2:end, :]\n",
    "validation = eperlan[2:2:end, :]"
   ]
  },
  {
   "cell_type": "markdown",
   "metadata": {},
   "source": [
    "## b) Modèle unidimensionnel\n",
    "\n",
    "1. Estimez la droite de régression avec les données de l'ensemble d'entraînement.\n",
    "2. Tracez la droite de régression ainsi que les points de l'ensemble d'entraînement.\n",
    "3. Ajoutez les points de validation sur le graphique avec une autre couleur.\n",
    "\n",
    "**Suggestion :** Utilisez la fonction `layer()` de Gadfly pour ajouter plusieurs couches à un graphique."
   ]
  },
  {
   "cell_type": "code",
   "execution_count": null,
   "metadata": {},
   "outputs": [],
   "source": [
    "order = 1\n",
    "\n",
    "X = construct_structure(train.StandardLength, order)\n",
    "β̂ = X\\train.Weight"
   ]
  },
  {
   "cell_type": "code",
   "execution_count": null,
   "metadata": {},
   "outputs": [],
   "source": [
    "xx = collect(range(9, stop=14, length = 100))\n",
    "XX = construct_structure(xx, order)\n",
    "yy = XX*β̂\n",
    "\n",
    "\n",
    "train_layer = layer(train, x=:StandardLength, y=:Weight, Geom.point)\n",
    "validation_layer = layer(validation, x=:StandardLength, y=:Weight, Geom.point, Theme(default_color =\"red\"))\n",
    "model_layer = layer(x=xx, y=yy, Geom.line)\n",
    "\n",
    "Gadfly.set_default_plot_size(16cm, 9cm)\n",
    "plot(train_layer, validation_layer ,model_layer)"
   ]
  },
  {
   "cell_type": "markdown",
   "metadata": {},
   "source": [
    "## c) Modèle cubique\n",
    "\n",
    "1. Estimez les paramètres du modèle cubique en utilisant les données de l'ensemble d'entraînement.\n",
    "2. Tracez la courbe donnée par le modèle ainsi que les points de l'ensemble d'entraînement.\n",
    "3. Ajoutez les points de validation sur le graphique avec une autre couleur.\n",
    "\n",
    "**Suggestion :** Utilisez la fonction `construct_structure()` fournie pour construire la matrice de structure pour le modèle cubique avec `order=3`."
   ]
  },
  {
   "cell_type": "code",
   "execution_count": null,
   "metadata": {},
   "outputs": [],
   "source": [
    "order = 3\n",
    "\n",
    "X = construct_structure(train.StandardLength, order)\n",
    "β̂ = X\\train.Weight"
   ]
  },
  {
   "cell_type": "code",
   "execution_count": null,
   "metadata": {},
   "outputs": [],
   "source": [
    "xx = collect(range(9, stop=14, length = 100))\n",
    "XX = construct_structure(xx, order)\n",
    "yy = XX*β̂\n",
    "\n",
    "\n",
    "train_layer = layer(train, x=:StandardLength, y=:Weight, Geom.point)\n",
    "validation_layer = layer(validation, x=:StandardLength, y=:Weight, Geom.point, Theme(default_color =\"red\"))\n",
    "model_layer = layer(x=xx, y=yy, Geom.line)\n",
    "\n",
    "Gadfly.set_default_plot_size(16cm, 9cm)\n",
    "plot(train_layer, validation_layer ,model_layer)"
   ]
  },
  {
   "cell_type": "markdown",
   "metadata": {},
   "source": [
    "## d) Modèle d'ordre 4\n",
    "\n",
    "1. Estimez les paramètres du modèle d'ordre 4 en utilisant les données de l'ensemble d'entraînement.\n",
    "2. Tracez la courbe donnée par le modèle ainsi que les points de l'ensemble d'entraînement.\n",
    "3. Ajoutez les points de validation sur le graphique avec une autre couleur.\n",
    "\n",
    "**Suggestion :** Utilisez la fonction `construct_structure()` fournie pour construire la matrice de structure pour le modèle cubique avec `order=4`."
   ]
  },
  {
   "cell_type": "code",
   "execution_count": null,
   "metadata": {},
   "outputs": [],
   "source": [
    "order = 4\n",
    "\n",
    "X = construct_structure(train.StandardLength, order)\n",
    "β̂ = X\\train.Weight"
   ]
  },
  {
   "cell_type": "code",
   "execution_count": null,
   "metadata": {},
   "outputs": [],
   "source": [
    "xx = collect(range(9, stop=14, length = 100))\n",
    "XX = construct_structure(xx, order)\n",
    "yy = XX*β̂\n",
    "\n",
    "\n",
    "train_layer = layer(train, x=:StandardLength, y=:Weight, Geom.point)\n",
    "validation_layer = layer(validation, x=:StandardLength, y=:Weight, Geom.point, Theme(default_color =\"red\"))\n",
    "model_layer = layer(x=xx, y=yy, Geom.line)\n",
    "\n",
    "Gadfly.set_default_plot_size(16cm, 9cm)\n",
    "plot(train_layer, validation_layer ,model_layer)"
   ]
  },
  {
   "cell_type": "markdown",
   "metadata": {},
   "source": [
    "## e) Calcul de la qualité d'ajustement et de l'erreur de prédiction\n",
    "\n",
    "Pour les modèles d'ordre 0 à 6, calculez \n",
    "- le coefficient de détermination\n",
    "- le coefficient de détermination\n",
    "- l'erreur quadratique moyenne (MSE) sur l'échantillon de validation.\n",
    "\n",
    "**Suggestion :** Ajoutez un ligne au tableau `df` proposé pour chacun des ordre de modèle avec la fonction `push!()`.\n"
   ]
  },
  {
   "cell_type": "code",
   "execution_count": null,
   "metadata": {},
   "outputs": [],
   "source": [
    "df = DataFrame(Ordre = Int64[], R² = Float64[], R²_aj = Float64[], MSE = Float64[])\n",
    "\n",
    "SST = sum( (train.Weight .- mean(train.Weight)).^2)\n",
    "\n",
    "n = length(train.Weight)\n",
    "\n",
    "for order in 0:6\n",
    "\n",
    "    X = construct_structure(train.StandardLength, order)\n",
    "    β̂ = X\\train.Weight\n",
    "\n",
    "    e = train.Weight - X*β̂\n",
    "\n",
    "    SSE = e'e\n",
    "\n",
    "    X₀ = construct_structure(validation.StandardLength, order)\n",
    "    ŷ₀ = X₀*β̂\n",
    "    e₀ = validation.Weight - ŷ₀\n",
    "    \n",
    "    MSE = mean(e₀.^2)\n",
    "    \n",
    "    push!(df, [order, 1 -  SSE/SST, 1 - (n-1)/(n-order-1)*SSE/SST, MSE])\n",
    "    \n",
    "end\n",
    "\n",
    "df\n"
   ]
  },
  {
   "cell_type": "code",
   "execution_count": null,
   "metadata": {},
   "outputs": [],
   "source": [
    "Gadfly.set_default_plot_size(21cm, 16cm)\n",
    "fig1 = plot(df, x=:Ordre, y=:R², Geom.line, Geom.point, Coord.cartesian(ymin=0))\n",
    "fig2 = plot(df, x=:Ordre, y=:R²_aj, Geom.line, Geom.point, Coord.cartesian(ymin=0))\n",
    "fig3 = plot(df, x=:Ordre, y=:MSE, Geom.line, Geom.point, Coord.cartesian(ymin=0, ymax=5))\n",
    "gridstack([fig1 fig2 ; fig3 plot()])"
   ]
  },
  {
   "cell_type": "markdown",
   "metadata": {},
   "source": [
    "## f) Sélection du meilleur modèle\n",
    "\n",
    "Selon vous, quel est le meilleur modèle ?"
   ]
  },
  {
   "cell_type": "markdown",
   "metadata": {},
   "source": [
    "**Du point de vue de l'estimation**\n",
    "\n",
    "Si on se fie au coefficient de détermination ajusté, alors le modèle qui s'ajuste le mieux aux données est le modèle quadratique. C'est en effet le maximum local du coefficient de détermination ajusté pour les modèles simples. Pour les ordres supérieurs, on est en surapprentissage.\n",
    "\n",
    "**Du point de vue de la prédiction**\n",
    "\n",
    "Si on se fie à l'erreur quadratique moyenne, le modèle linéaire est le meilleur pour prédire le poids des éperlans en fonction de leur longueur.\n",
    "\n",
    "**Conclusion**\n",
    "\n",
    "Le modèle s'ajustant le mieux aux données est le modèle quadratique et le modèle donnant de meilleurs prédictions au sens de l'erreur quadratique moyenne est le modèle linéaire. Il n'y a donc pas une seule réponse possible. Le meilleur modèle dépendra de l'application."
   ]
  },
  {
   "cell_type": "markdown",
   "metadata": {},
   "source": [
    "# Exercice 3 - Poids des perches\n",
    "\n",
    "On sélectionne pour cet exercice que les perches."
   ]
  },
  {
   "cell_type": "code",
   "execution_count": null,
   "metadata": {},
   "outputs": [],
   "source": [
    "perche = filter(row -> row.Species == \"Perche\", data)\n",
    "n = size(perche,1)\n",
    "first(perche, 10)"
   ]
  },
  {
   "cell_type": "markdown",
   "metadata": {},
   "source": [
    "## a) Vérification quantitative de multicolinéarité.\n",
    "\n",
    "Calculez le facteur d'inflation de la variance VIF pour les variables explicatives de la perche. Déterminez s'il y a multicolinéarité."
   ]
  },
  {
   "cell_type": "code",
   "execution_count": null,
   "metadata": {},
   "outputs": [],
   "source": [
    "# Matrice de structure\n",
    "\n",
    "X = hcat(ones(n), convert(Array{Float64}, perche[:, 3:end]))"
   ]
  },
  {
   "cell_type": "code",
   "execution_count": null,
   "metadata": {},
   "outputs": [],
   "source": [
    "function compute_VIF(structureMatrix::Array{T,2} where T<:Real)\n",
    "    \n",
    "    n, m = size(structureMatrix)\n",
    "    \n",
    "    p = m-1  # nb de variables explicatives\n",
    "    \n",
    "    VIF = Float64[]\n",
    "    \n",
    "    for j in 2:m\n",
    "       \n",
    "        y = structureMatrix[:,j]\n",
    "        X = structureMatrix[:, setdiff(1:m, j)]\n",
    "        \n",
    "        β̂ = X\\y\n",
    "        \n",
    "        e = y - X*β̂\n",
    "        \n",
    "        SST = sum( (y .- mean(y)).^2)\n",
    "        SSE = e'e\n",
    "        \n",
    "        R² = 1 - SSE/SST\n",
    "        \n",
    "        push!(VIF, 1/(1-R²))\n",
    "        \n",
    "    end\n",
    "    \n",
    "    return VIF\n",
    "    \n",
    "end"
   ]
  },
  {
   "cell_type": "code",
   "execution_count": null,
   "metadata": {},
   "outputs": [],
   "source": [
    "compute_VIF(X)"
   ]
  },
  {
   "cell_type": "markdown",
   "metadata": {},
   "source": [
    "## b) Vérification visuelle de la multicolinéarité\n",
    "\n",
    "Illustrer la :NonStandardLength en fonction de la :StandardLength. Est-ce que ça corrobore le fait que la multicolinéarité ait été détectée à la question précédente."
   ]
  },
  {
   "cell_type": "code",
   "execution_count": null,
   "metadata": {},
   "outputs": [],
   "source": [
    "Gadfly.set_default_plot_size(16cm, 9cm)\n",
    "plot(perche, x=:StandardLength, y=:NonStandardLength, Geom.point)"
   ]
  },
  {
   "cell_type": "markdown",
   "metadata": {},
   "source": [
    "## c)  Identification du meilleur modèle\n",
    "\n",
    "Puisqu'il y a présence de multicolinéarité entre toutes les variables, on cherche le meilleur modèle unidimensionnel.\n",
    "\n",
    "**Suggestion :** Transformez la variable d'intérêt pour trouver le meilleur modèle unidimensionnel."
   ]
  },
  {
   "cell_type": "code",
   "execution_count": null,
   "metadata": {},
   "outputs": [],
   "source": [
    "varnames = [:StandardLength, :NonStandardLength, :TotalLength, :Height, :Width]\n",
    "\n",
    "perche[!,:Weight_csquared] = (perche[:,:Weight]).^(1/3)\n",
    "\n",
    "y = perche.Weight_csquared\n",
    "\n",
    "n = length(y)\n",
    "\n",
    "SST = sum( (y .- mean(y)).^2 )\n",
    "\n",
    "res = DataFrame(Variable = Symbol[], R² = Float64[])\n",
    "\n",
    "for varname in varnames\n",
    "   \n",
    "    X = hcat(ones(n), perche[:,varname])\n",
    "    β̂ = X\\y\n",
    "    \n",
    "    e = y - X*β̂\n",
    "    SSE = e'e\n",
    "    \n",
    "    push!(res, [varname, 1-SSE/SST])\n",
    "    \n",
    "end\n",
    "\n",
    "sort!(res, :R², rev=true)"
   ]
  },
  {
   "cell_type": "code",
   "execution_count": null,
   "metadata": {},
   "outputs": [],
   "source": [
    "x = perche[:,res.Variable[1]]\n",
    "y = perche.Weight_csquared\n",
    "\n",
    "n = length(y)\n",
    "\n",
    "X = hcat(ones(n), x)\n",
    "\n",
    "β̂ = X\\y\n",
    "\n",
    "Gadfly.set_default_plot_size(16cm, 9cm)\n",
    "plot(x=x, y=y, Geom.point, intercept = [β̂[1]], slope = [β̂[2]], Geom.abline(color=\"red\", style=:dash))"
   ]
  },
  {
   "cell_type": "markdown",
   "metadata": {},
   "source": [
    "## d) Vérification des hypothèses de la régression\n",
    "\n",
    "Vérifiez si les hypothèses 1 à 4 de la régression sont satisfaites. Pour ce faire, tracer les graphiques suivants :\n",
    "- le nuage des points {(ŷᵢ, eᵢ) : 1 ≤ i ≤ n} pour vérifier les hypothèses 1 et 2\n",
    "- la droite de Henry pour vérifier l'hypothèse 4.\n",
    "\n",
    "**Suggestion :** Vous pouvez utiliser la fonction `henryplot()` fournie pour tracer le diagramme quantile-quantile entre la loi normale et les résidus.\n"
   ]
  },
  {
   "cell_type": "code",
   "execution_count": null,
   "metadata": {},
   "outputs": [],
   "source": [
    "function henryplot(y::Vector{<:Real})\n",
    "\n",
    "    n = length(y)\n",
    "    ysorted = sort(y)\n",
    "\n",
    "    p = ( collect(1:n) .- .5 ) /n\n",
    "\n",
    "    fd = fit(Normal,y)\n",
    "\n",
    "    q = quantile.(fd,p)\n",
    "\n",
    "    plot(x=ysorted, y=q, Geom.point,\n",
    "    Guide.xlabel(\"Empirical quantiles\"), Guide.ylabel(\"Estimated quantiles\"),\n",
    "    Theme(discrete_highlight_color=c->nothing),\n",
    "    Geom.abline(color=\"red\"))\n",
    "\n",
    "\n",
    "end"
   ]
  },
  {
   "cell_type": "code",
   "execution_count": null,
   "metadata": {},
   "outputs": [],
   "source": [
    "ŷ = X*β̂\n",
    "e = y - ŷ\n",
    "\n",
    "plot(x=ŷ, y=e, Geom.point, Guide.xlabel(\"ŷ\"), Guide.ylabel(\"e\"))"
   ]
  },
  {
   "cell_type": "code",
   "execution_count": null,
   "metadata": {},
   "outputs": [],
   "source": [
    "henryplot(e)"
   ]
  },
  {
   "cell_type": "markdown",
   "metadata": {},
   "source": [
    "## e) Relation pour les poids originaux\n",
    "\n",
    "Tracez le nuage de points illutrants les poids originaux des perches en fonction votre variable explicative ainsi que la relation non linéaire obtenue.\n",
    "\n",
    "**Suggestion :** Utilisez la fonction `layer()` pour superposer plusieurs couches sur un graphique."
   ]
  },
  {
   "cell_type": "code",
   "execution_count": null,
   "metadata": {},
   "outputs": [],
   "source": [
    "xx = collect(range(10, stop=50, length=1000))\n",
    "yy = (β̂[1] .+ β̂[2]*xx).^3\n",
    "\n",
    "obs = layer(perche, x=res.Variable[1], y=:Weight, Geom.point)\n",
    "model = layer(x=xx, y=yy, Geom.line, Theme(default_color=\"red\"))\n",
    "\n",
    "Gadfly.set_default_plot_size(16cm, 9cm)\n",
    "plot(obs, model)"
   ]
  },
  {
   "cell_type": "code",
   "execution_count": null,
   "metadata": {},
   "outputs": [],
   "source": []
  },
  {
   "cell_type": "code",
   "execution_count": null,
   "metadata": {},
   "outputs": [],
   "source": []
  }
 ],
 "metadata": {
  "@webio": {
   "lastCommId": null,
   "lastKernelId": null
  },
  "kernelspec": {
   "display_name": "Julia 1.5.3",
   "language": "julia",
   "name": "julia-1.5"
  },
  "language_info": {
   "file_extension": ".jl",
   "mimetype": "application/julia",
   "name": "julia",
   "version": "1.5.3"
  }
 },
 "nbformat": 4,
 "nbformat_minor": 2
}
